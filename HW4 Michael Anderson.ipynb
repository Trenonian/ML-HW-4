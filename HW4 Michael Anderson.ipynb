{
 "cells": [
  {
   "cell_type": "markdown",
   "id": "e064d292-5afb-47b7-ad54-1ca9303f3b2e",
   "metadata": {},
   "source": [
    "# Homework 4\n",
    "\n",
    "Michael Anderson\n",
    "\n",
    "manderson113@student.gsu.edu\n",
    "\n",
    "002485269"
   ]
  },
  {
   "cell_type": "code",
   "execution_count": 3,
   "id": "8d79d95d-ef39-4104-b164-3584c876550d",
   "metadata": {},
   "outputs": [],
   "source": [
    "import pandas as pd\n",
    "import numpy as np\n",
    "import pandas_profiling\n",
    "import matplotlib.pyplot as plt\n",
    "from sklearn import preprocessing\n",
    "%matplotlib inline"
   ]
  },
  {
   "cell_type": "markdown",
   "id": "92ed37c4-62ac-415a-978b-4552f39f0a13",
   "metadata": {},
   "source": [
    "# 1"
   ]
  },
  {
   "cell_type": "markdown",
   "id": "6c7340eb-229d-47b0-b649-27c574b4820b",
   "metadata": {},
   "source": [
    "## a)"
   ]
  },
  {
   "cell_type": "markdown",
   "id": "6e4ef162-225f-45f0-b075-17f4c093be71",
   "metadata": {},
   "source": [
    "### Conditional Probability\n",
    "\n",
    "$formula$\n",
    "\n",
    ".\n",
    "\n",
    "### Marginal Probability\n",
    "\n",
    "$formula$\n",
    "\n",
    ".\n",
    "\n",
    "### Joint Probability\n",
    "\n",
    "$formula$\n",
    "\n",
    "."
   ]
  },
  {
   "cell_type": "markdown",
   "id": "10c458d1-7984-42e1-9cf3-7fab2aff9a62",
   "metadata": {},
   "source": [
    "## b)"
   ]
  },
  {
   "cell_type": "markdown",
   "id": "d068e006-ab43-42fe-8b74-7b31a28730e3",
   "metadata": {},
   "source": [
    "### Baye's rule\n",
    "\n",
    "$formula$\n",
    "\n",
    ".\n",
    "\n",
    "#### prior\n",
    "\n",
    ".\n",
    "\n",
    "#### posterior\n",
    "\n",
    ".\n",
    "\n",
    "#### likelihood\n",
    "\n",
    ".\n",
    "\n",
    "#### marginal probability\n",
    "\n",
    "."
   ]
  },
  {
   "cell_type": "markdown",
   "id": "a327bcff-326f-4ea5-a7a3-d8db934e2d3a",
   "metadata": {},
   "source": [
    "## c)"
   ]
  },
  {
   "cell_type": "markdown",
   "id": "10539f3a-3e82-49e3-887e-b34116ed2e11",
   "metadata": {},
   "source": [
    "### Naive Bayes\n",
    "\n",
    "$P(X_{1}...X_{n}|Y) = \\prod_{i} P(X_{i}|Y)$"
   ]
  },
  {
   "cell_type": "markdown",
   "id": "9e289ce1-ee1d-41fd-9107-fd45046d9e2a",
   "metadata": {},
   "source": [
    "Naive Bayes assumes that $X_{i}$ and $X_{j}$ are conditionally independent given $Y$, for all $i \\neq j$."
   ]
  },
  {
   "cell_type": "markdown",
   "id": "600cd119-21f9-4c0c-b087-44285384d55c",
   "metadata": {},
   "source": [
    "Basically, we 'naively' assume that every feature is independent of the other features, and that all the features have the same weight. While this is almost always not the case, in reduces the number of parameters needed to describe the probability from $(2^{n}-1)*2 + 1$ to $2n + 1$, and is **much** faster."
   ]
  },
  {
   "cell_type": "markdown",
   "id": "0aa74be1-7c5b-4f27-b1bd-0d6f67db4554",
   "metadata": {},
   "source": [
    "# 2"
   ]
  },
  {
   "cell_type": "code",
   "execution_count": 6,
   "id": "a1aece1d-bce2-40d4-8a6d-d50f196aabdf",
   "metadata": {},
   "outputs": [],
   "source": [
    "cars = pd.read_csv(\"data/cars.csv\")"
   ]
  },
  {
   "cell_type": "code",
   "execution_count": 7,
   "id": "ae8634d3-7681-45da-97d4-14757f06b559",
   "metadata": {},
   "outputs": [
    {
     "data": {
      "text/html": [
       "<div>\n",
       "<style scoped>\n",
       "    .dataframe tbody tr th:only-of-type {\n",
       "        vertical-align: middle;\n",
       "    }\n",
       "\n",
       "    .dataframe tbody tr th {\n",
       "        vertical-align: top;\n",
       "    }\n",
       "\n",
       "    .dataframe thead th {\n",
       "        text-align: right;\n",
       "    }\n",
       "</style>\n",
       "<table border=\"1\" class=\"dataframe\">\n",
       "  <thead>\n",
       "    <tr style=\"text-align: right;\">\n",
       "      <th></th>\n",
       "      <th>Color</th>\n",
       "      <th>Type</th>\n",
       "      <th>Origin</th>\n",
       "      <th>Stolen?</th>\n",
       "    </tr>\n",
       "  </thead>\n",
       "  <tbody>\n",
       "    <tr>\n",
       "      <th>0</th>\n",
       "      <td>Red</td>\n",
       "      <td>Sports</td>\n",
       "      <td>Domestic</td>\n",
       "      <td>Yes</td>\n",
       "    </tr>\n",
       "    <tr>\n",
       "      <th>1</th>\n",
       "      <td>Red</td>\n",
       "      <td>Sports</td>\n",
       "      <td>Domestic</td>\n",
       "      <td>No</td>\n",
       "    </tr>\n",
       "    <tr>\n",
       "      <th>2</th>\n",
       "      <td>Red</td>\n",
       "      <td>Sports</td>\n",
       "      <td>Domestic</td>\n",
       "      <td>Yes</td>\n",
       "    </tr>\n",
       "    <tr>\n",
       "      <th>3</th>\n",
       "      <td>Yellow</td>\n",
       "      <td>Sports</td>\n",
       "      <td>Domestic</td>\n",
       "      <td>No</td>\n",
       "    </tr>\n",
       "    <tr>\n",
       "      <th>4</th>\n",
       "      <td>Yellow</td>\n",
       "      <td>Sports</td>\n",
       "      <td>Imported</td>\n",
       "      <td>Yes</td>\n",
       "    </tr>\n",
       "  </tbody>\n",
       "</table>\n",
       "</div>"
      ],
      "text/plain": [
       "    Color    Type    Origin Stolen?\n",
       "0     Red  Sports  Domestic     Yes\n",
       "1     Red  Sports  Domestic      No\n",
       "2     Red  Sports  Domestic     Yes\n",
       "3  Yellow  Sports  Domestic      No\n",
       "4  Yellow  Sports  Imported     Yes"
      ]
     },
     "execution_count": 7,
     "metadata": {},
     "output_type": "execute_result"
    }
   ],
   "source": [
    "cars.head()"
   ]
  },
  {
   "cell_type": "code",
   "execution_count": null,
   "id": "acf7ea2e-6847-4a05-a432-a89f88868ccf",
   "metadata": {},
   "outputs": [],
   "source": [
    "# Import LabelEncoder\n",
    "from sklearn import preprocessing\n",
    "#creating labelEncoder\n",
    "le = preprocessing.LabelEncoder()\n",
    "# x=le.fit_transform(x)"
   ]
  }
 ],
 "metadata": {
  "kernelspec": {
   "display_name": "Python 3 (ipykernel)",
   "language": "python",
   "name": "python3"
  },
  "language_info": {
   "codemirror_mode": {
    "name": "ipython",
    "version": 3
   },
   "file_extension": ".py",
   "mimetype": "text/x-python",
   "name": "python",
   "nbconvert_exporter": "python",
   "pygments_lexer": "ipython3",
   "version": "3.8.10"
  }
 },
 "nbformat": 4,
 "nbformat_minor": 5
}
